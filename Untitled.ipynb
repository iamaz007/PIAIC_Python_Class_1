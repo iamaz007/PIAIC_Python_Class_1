{
 "cells": [
  {
   "cell_type": "code",
   "execution_count": 2,
   "metadata": {},
   "outputs": [
    {
     "name": "stdout",
     "output_type": "stream",
     "text": [
      "Hello Abdullah Zahid \n",
      "age 21\n",
      "Your application is accepted for AI at NTU\n"
     ]
    }
   ],
   "source": [
    "name=\"Abdullah Zahid\"\n",
    "age=21\n",
    "className=\"AI\"\n",
    "uni=\"NTU\"\n",
    "message=\"\"\"Hello {u_name} \\nage {u_age}\\nYour application is accepted for {u_class_name} at {u_uni}\"\"\".format(u_name=name, u_age=age, u_class_name=className, u_uni=uni)\n",
    "print(message)"
   ]
  },
  {
   "cell_type": "code",
   "execution_count": null,
   "metadata": {},
   "outputs": [],
   "source": []
  }
 ],
 "metadata": {
  "kernelspec": {
   "display_name": "Python 3",
   "language": "python",
   "name": "python3"
  },
  "language_info": {
   "codemirror_mode": {
    "name": "ipython",
    "version": 3
   },
   "file_extension": ".py",
   "mimetype": "text/x-python",
   "name": "python",
   "nbconvert_exporter": "python",
   "pygments_lexer": "ipython3",
   "version": "3.7.4"
  }
 },
 "nbformat": 4,
 "nbformat_minor": 2
}
